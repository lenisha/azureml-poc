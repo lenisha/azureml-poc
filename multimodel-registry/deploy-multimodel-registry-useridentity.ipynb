{
  "cells": [
    {
      "attachments": {},
      "cell_type": "markdown",
      "source": [
        "# Deploy multiple machine learning models from registry to online endpoint  \n",
        "\n",
        "Learn how to use an online endpoint to deploy your model, so you don't have to create and manage the underlying infrastructure. You'll begin by deploying a model on your local machine to debug any errors, and then you'll deploy and test it in Azure.\n",
        "\n",
        "Managed online endpoints help to deploy your ML models in a turnkey manner. Managed online endpoints work with powerful CPU and GPU machines in Azure in a scalable, fully managed way. Managed online endpoints take care of serving, scaling, securing, and monitoring your models, freeing you from the overhead of setting up and managing the underlying infrastructure. \n",
        "\n",
        "For more information, see [What are Azure Machine Learning endpoints?](https://docs.microsoft.com/azure/machine-learning/concept-endpoints)."
      ],
      "metadata": {}
    },
    {
      "attachments": {},
      "cell_type": "markdown",
      "source": [
        "## Prerequisites\n",
        "\n",
        "* Install and configure the [Python SDK v2](sdk/setup.sh).\n",
        "\n",
        "* You must have an Azure resource group, and you (or the service principal you use) must have Contributor access to it.\n",
        "\n",
        "* You must have an Azure Machine Learning workspace. \n",
        "\n",
        "* Train Iris model and register multiple versions [Iris Training](./train-iris-scikit-learn.ipynb)\n",
        "\n",
        "## Steps\n",
        "\n",
        "* Connect to Workspace\n",
        "\n",
        "* Create Endpoint\n",
        "\n",
        "* Add Role 'AzureML DataScientist'  to Endpoint Managed Identity one Workspace scope \n",
        "\n",
        "* Create Deployment with scoring scipt\n",
        "\n",
        "* Scoring Scipt Loads  multiple models from WS  Registry "
      ],
      "metadata": {}
    },
    {
      "cell_type": "markdown",
      "source": [
        "# 1. Connect to Azure Machine Learning Workspace\n",
        "\n",
        "The [workspace](https://docs.microsoft.com/en-us/azure/machine-learning/concept-workspace) is the top-level resource for Azure Machine Learning, providing a centralized place to work with all the artifacts you create when you use Azure Machine Learning. In this section we will connect to the workspace in which the job will be run.\n",
        "\n",
        "## 1.1. Import the required libraries"
      ],
      "metadata": {}
    },
    {
      "cell_type": "code",
      "source": [
        "# import required libraries\n",
        "from azure.ai.ml import MLClient\n",
        "from azure.ai.ml.entities import (\n",
        "    ManagedOnlineEndpoint,\n",
        "    ManagedOnlineDeployment,\n",
        "    Model,\n",
        "    Environment,\n",
        "    CodeConfiguration,\n",
        ")\n",
        "from azure.identity import DefaultAzureCredential"
      ],
      "outputs": [],
      "execution_count": null,
      "metadata": {
        "gather": {
          "logged": 1683687582751
        }
      }
    },
    {
      "cell_type": "markdown",
      "source": [
        "## 1.2. Configure workspace details and get a handle to the workspace\n",
        "\n",
        "To connect to a workspace, we need identifier parameters - a subscription, resource group and workspace name. We will use these details in the `MLClient` from `azure.ai.ml` to get a handle to the required Azure Machine Learning workspace. We use the default [default azure authentication](https://docs.microsoft.com/en-us/python/api/azure-identity/azure.identity.defaultazurecredential?view=azure-python) for this tutorial. Check the [configuration notebook](../../jobs/configuration.ipynb) for more details on how to configure credentials and connect to a workspace."
      ],
      "metadata": {}
    },
    {
      "cell_type": "code",
      "source": [
        "\n",
        "# Enter details of your AML workspace\n",
        "subscription_id = \"SUB\"\n",
        "resource_group = \"RG\"\n",
        "workspace_name = \"WS\"\n",
        "\n",
        "\n",
        "user_identity_id=\"/subscriptions/...../providers/Microsoft.ManagedIdentity/userAssignedIdentities/...\"\n"
      ],
      "outputs": [],
      "execution_count": null,
      "metadata": {
        "gather": {
          "logged": 1683687582938
        }
      }
    },
    {
      "cell_type": "code",
      "source": [
        "# get a handle to the workspace\n",
        "ml_client = MLClient(\n",
        "    DefaultAzureCredential(), subscription_id, resource_group, workspace_name\n",
        ")"
      ],
      "outputs": [],
      "execution_count": null,
      "metadata": {
        "gather": {
          "logged": 1683687583261
        }
      }
    },
    {
      "cell_type": "markdown",
      "source": [
        "# 4. Deploy your online endpoint to Azure\n",
        "Next, deploy your online endpoint to Azure.\n",
        "\n"
      ],
      "metadata": {}
    },
    {
      "attachments": {},
      "cell_type": "markdown",
      "source": [
        "## 4.1 Create  Managed Endpoint Identity and add Role\n",
        "To access ML Models from Registry in workspace Managed Online Endpoint System Identity needs to be granted access to registry.\n",
        "Assign `AzureML Data Scientist` role to MOE Identity on Workspace scope\n",
        "![identity](docs/modelidentity.png)\n",
        "\n",
        "- Reader on Workspace\n",
        "- ACRPull on ACR\n",
        "- Blob Storage Reader on Storage\n",
        "\n",
        "https://learn.microsoft.com/en-us/azure/machine-learning/how-to-troubleshoot-online-endpoints?view=azureml-api-2&tabs=cli#authorization-error "
      ],
      "metadata": {}
    },
    {
      "cell_type": "markdown",
      "source": [
        "## 4.2 Configure online endpoint\r\n",
        "`endpoint_name`: The name of the endpoint. It must be unique in the Azure region. Naming rules are defined under [managed online endpoint limits](https://docs.microsoft.com/azure/machine-learning/how-to-manage-quotas#azure-machine-learning-managed-online-endpoints-preview).\r\n",
        "\r\n",
        "`auth_mode` : Use `key` for key-based authentication. Use `aml_token` for Azure Machine Learning token-based authentication. A `key` does not expire, but `aml_token` does expire. \r\n",
        "\r\n",
        "Optionally, you can add description, tags to your endpoint."
      ],
      "metadata": {
        "nteract": {
          "transient": {
            "deleting": false
          }
        }
      }
    },
    {
      "cell_type": "code",
      "source": [
        "# Creating a unique endpoint name with current datetime to avoid conflicts\n",
        "import datetime\n",
        "from azure.ai.ml.entities import ManagedIdentityConfiguration, IdentityConfiguration\n",
        "\n",
        "online_endpoint_name = \"multimodel-\" + datetime.datetime.now().strftime(\"%m%d%H%M%f\")\n",
        "\n",
        "# create an online endpoint\n",
        "endpoint = ManagedOnlineEndpoint(\n",
        "    name=online_endpoint_name,\n",
        "    description=\"this is a multimodel online endpoint\",\n",
        "    auth_mode=\"key\",\n",
        "    identity=IdentityConfiguration(\n",
        "        type=\"user_assigned\",\n",
        "        user_assigned_identities=[\n",
        "            ManagedIdentityConfiguration(resource_id=user_identity_id)\n",
        "        ],\n",
        "    ),\n",
        "    tags={\"foo\": \"bar\"},\n",
        ")"
      ],
      "outputs": [],
      "execution_count": null,
      "metadata": {
        "gather": {
          "logged": 1683687583648
        }
      }
    },
    {
      "cell_type": "markdown",
      "source": [
        "## 4.2.1 Create the endpoint\n",
        "\n",
        "Using the `MLClient` created earlier, we will now create the Endpoint in the workspace. This command will start the endpoint creation and return a confirmation response while the endpoint creation continues."
      ],
      "metadata": {}
    },
    {
      "cell_type": "code",
      "source": [
        "ml_client.online_endpoints.begin_create_or_update(endpoint).result()"
      ],
      "outputs": [],
      "execution_count": null,
      "metadata": {
        "gather": {
          "logged": 1683687677649
        }
      }
    },
    {
      "cell_type": "code",
      "source": [
        "endpoint = ml_client.online_endpoints.get(online_endpoint_name)\n",
        "print(\"Endpoint Identity {0} \".format(endpoint.identity))"
      ],
      "outputs": [],
      "execution_count": null,
      "metadata": {
        "gather": {
          "logged": 1683687677979
        }
      }
    },
    {
      "attachments": {},
      "cell_type": "markdown",
      "source": [
        "## 4.3 Configure online deployment\n",
        "\n"
      ],
      "metadata": {}
    },
    {
      "attachments": {},
      "cell_type": "markdown",
      "source": [
        "## 4.3.1 Explore Scoring script\n",
        "\n",
        "Scoring script is in `onlinescoring/score_registry.py` reads MLFlow Tracking URI from environment variable  (set during registration) and loads models from workspace for prediction\n",
        "\n",
        "```python\n",
        "import os\n",
        "import logging\n",
        "import json\n",
        "import numpy\n",
        "import joblib\n",
        "import mlflow\n",
        "\n",
        "\n",
        "def init():\n",
        "    \"\"\"\n",
        "    This function is called when the container is initialized/started, typically after create/update of the deployment.\n",
        "    You can write the logic here to perform init operations like caching the model in memory\n",
        "    \"\"\"\n",
        "    global model1, model2\n",
        "    # More details  https://learn.microsoft.com/en-us/azure/machine-learning/how-to-manage-models-mlflow\n",
        "    mlflow.set_tracking_uri(os.getenv(\"TRACKING_URI\"))\n",
        "    logging.info(\"Tracking URL: {0}\".format(os.getenv(\"TRACKING_URI\")))\n",
        "\n",
        "    model1 = mlflow.sklearn.load_model(\"models:/iris_svc_model/1\")\n",
        "    model2 = mlflow.sklearn.load_model(\"models:/iris_svc_model/latest\")\n",
        "    logging.info(\"Init complete\")\n",
        "\n",
        "\n",
        "def run(raw_data):\n",
        "    \"\"\"\n",
        "    This function is called for every invocation of the endpoint to perform the actual scoring/prediction.\n",
        "    In the example we extract the data from the json input and call the scikit-learn model's predict()\n",
        "    method and return the result back\n",
        "    \"\"\"\n",
        "    logging.info(\"Request received\")\n",
        "    json_data = json.loads(raw_data)\n",
        "    if \"input_data\" not in json_data.keys():\n",
        "        raise Exception(\"Request must contain a top level key named 'input_data'\")\n",
        "  \n",
        "    \n",
        "    input_data = json_data[\"input_data\"]\n",
        "    print(json.dumps(input_data))\n",
        "\n",
        "    data = input_data[\"data\"]\n",
        "    data = numpy.array(data)\n",
        "    num_rows, num_cols = data.shape # just example based on number of rows to switch model\n",
        "\n",
        "    if ( num_rows <= 2 ) :\n",
        "      logging.info(\" Model 1 is predicting\")\n",
        "      result = model1.predict(data)\n",
        "    else:\n",
        "      logging.info(\" Model 2 is predicting\")\n",
        "      result = model2.predict(data)  \n",
        "    logging.info(\"Request processed\")\n",
        "    return result.tolist()\n",
        "\n",
        "```"
      ],
      "metadata": {}
    },
    {
      "attachments": {},
      "cell_type": "markdown",
      "source": [
        "## 4.3.2 Register Deployment\n",
        "A deployment is a set of resources required for hosting the model that does the actual inferencing. We will create a deployment for our endpoint using the `ManagedOnlineDeployment` class."
      ],
      "metadata": {}
    },
    {
      "cell_type": "code",
      "source": [
        "env = Environment(\n",
        "    conda_file=\"./environment/conda.yml\",\n",
        "    image=\"mcr.microsoft.com/azureml/openmpi4.1.0-ubuntu20.04:latest\",\n",
        ")\n",
        "workspace = ml_client.workspaces.get(name=workspace_name)\n",
        "\n",
        "blue_deployment = ManagedOnlineDeployment(\n",
        "    name=\"blue\" + datetime.datetime.now().strftime(\"%m%d%H%M%f\"),\n",
        "    endpoint_name=online_endpoint_name,\n",
        "    #model=model,\n",
        "    environment=env,\n",
        "    code_configuration=CodeConfiguration(\n",
        "        code=\"./onlinescoring\", scoring_script=\"score_registry_uai.py\"\n",
        "    ),\n",
        "    environment_variables={\n",
        "        \"TRACKING_URI\": workspace.mlflow_tracking_uri,\n",
        "        \"UAI_CLIENT_ID\": user_identity_id\n",
        "    },\n",
        "    instance_type=\"Standard_F4s_v2\",\n",
        "    instance_count=1,\n",
        ")\n",
        "\n",
        "print(\"Deployment {0}  defined\".format(blue_deployment.name))\n"
      ],
      "outputs": [],
      "execution_count": null,
      "metadata": {
        "gather": {
          "logged": 1683692226719
        }
      }
    },
    {
      "cell_type": "markdown",
      "source": [
        "## 4.4 Create the deployment\n",
        "\n",
        "Using the `MLClient` created earlier, we will now create the deployment in the workspace. This command will start the deployment creation and return a confirmation response while the deployment creation continues."
      ],
      "metadata": {}
    },
    {
      "cell_type": "code",
      "source": [
        "ml_client.online_deployments.begin_create_or_update(blue_deployment).result()"
      ],
      "outputs": [],
      "execution_count": null,
      "metadata": {
        "gather": {
          "logged": 1683692576039
        }
      }
    },
    {
      "cell_type": "code",
      "source": [
        "# blue deployment takes 100 traffic\n",
        "endpoint.traffic = {f\"{blue_deployment.name}\": 100}\n",
        "ml_client.online_endpoints.begin_create_or_update(endpoint).result()"
      ],
      "outputs": [],
      "execution_count": null,
      "metadata": {
        "gather": {
          "logged": 1683688408863
        }
      }
    },
    {
      "cell_type": "markdown",
      "source": [
        "# 5. Test the endpoint with sample data\n",
        "Using the `MLClient` created earlier, we will get a handle to the endpoint. The endpoint can be invoked using the `invoke` command with the following parameters:\n",
        "- `endpoint_name` - Name of the endpoint\n",
        "- `request_file` - File with request data\n",
        "- `deployment_name` - Name of the specific deployment to test in an endpoint\n",
        "\n",
        "We will send a sample request using a [json](./model-1/sample-request.json) file. "
      ],
      "metadata": {}
    },
    {
      "cell_type": "code",
      "source": [
        "# test the blue deployment with some sample data\n",
        "ml_client.online_endpoints.invoke(\n",
        "    endpoint_name=online_endpoint_name,\n",
        "    deployment_name=blue_deployment.name,\n",
        "    request_file=\"./onlinescoring/sample-request.json\",\n",
        ")"
      ],
      "outputs": [],
      "execution_count": null,
      "metadata": {
        "gather": {
          "logged": 1683688408885
        }
      }
    },
    {
      "cell_type": "markdown",
      "source": [
        "# 6. Managing endpoints and deployments\n",
        "\n",
        "## 6.1 Get details of the endpoint"
      ],
      "metadata": {}
    },
    {
      "cell_type": "code",
      "source": [
        "# Get the details for online endpoint\n",
        "endpoint = ml_client.online_endpoints.get(name=online_endpoint_name)\n",
        "\n",
        "# existing traffic details\n",
        "print(endpoint.traffic)\n",
        "\n",
        "# Get the scoring URI\n",
        "print(endpoint.scoring_uri)"
      ],
      "outputs": [],
      "execution_count": null,
      "metadata": {
        "gather": {
          "logged": 1683688408902
        }
      }
    },
    {
      "cell_type": "markdown",
      "source": [
        "## 6.2 Get the logs for the new deployment\n",
        "Get the logs for the green deployment and verify as needed"
      ],
      "metadata": {}
    },
    {
      "cell_type": "code",
      "source": [
        "ml_client.online_deployments.get_logs(\n",
        "    name=blue_deployment.name, endpoint_name=online_endpoint_name, lines=50\n",
        ")"
      ],
      "outputs": [],
      "execution_count": null,
      "metadata": {
        "gather": {
          "logged": 1683688408921
        }
      }
    },
    {
      "cell_type": "markdown",
      "source": [
        "# 7. Delete the endpoint\n"
      ],
      "metadata": {}
    },
    {
      "cell_type": "code",
      "source": [
        "#ml_client.online_endpoints.begin_delete(name=online_endpoint_name)"
      ],
      "outputs": [],
      "execution_count": null,
      "metadata": {
        "gather": {
          "logged": 1683688408937
        }
      }
    }
  ],
  "metadata": {
    "orig_nbformat": 4,
    "vscode": {
      "interpreter": {
        "hash": "78f9db5fbd37e8889e0f83cef79d3f22c09395ee4e0648cc45e2c02045ffa952"
      }
    },
    "microsoft": {
      "ms_spell_check": {
        "ms_spell_check_language": "en"
      },
      "host": {
        "AzureML": {
          "notebookHasBeenCompleted": true
        }
      }
    },
    "kernel_info": {
      "name": "python310-sdkv2"
    },
    "language_info": {
      "name": "python",
      "version": "3.10.6",
      "mimetype": "text/x-python",
      "codemirror_mode": {
        "name": "ipython",
        "version": 3
      },
      "pygments_lexer": "ipython3",
      "nbconvert_exporter": "python",
      "file_extension": ".py"
    },
    "kernelspec": {
      "name": "python310-sdkv2",
      "language": "python",
      "display_name": "Python 3.10 - SDK V2"
    },
    "description": {
      "description": "Use an online endpoint to deploy your model, so you don't have to create and manage the underlying infrastructure"
    },
    "nteract": {
      "version": "nteract-front-end@1.0.0"
    }
  },
  "nbformat": 4,
  "nbformat_minor": 2
}